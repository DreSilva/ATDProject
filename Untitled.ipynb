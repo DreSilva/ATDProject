{
 "cells": [
  {
   "cell_type": "markdown",
   "metadata": {},
   "source": [
    "# Relatório Mini-Projeto ATD\n",
    "João Cruz 2018288464, André Silva 2018277921, Mara Dias\n",
    "\n",
    "### Introdução\n",
    "Neste trabalho utilizamos os vários conceitos obtidos nas aulas teóricas e práticas para analisar os data-sets fornecidos.\n",
    "Serão calculdas as DFTs dos sinais para obter a informação necessária.\n",
    "\n",
    "## Exercicio 1\n",
    "\n",
    "Foi feito o download dos data-sets.\n",
    "\n",
    "## Exercicio 2\n",
    "\n",
    "Código para leitura dos data-sets"
   ]
  },
  {
   "cell_type": "code",
   "execution_count": null,
   "metadata": {},
   "outputs": [],
   "source": [
    "%Codigo para leitura dos ficheiros com os Data-sets\n",
    "function filedata = read_raw_data(filename)\n",
    "delimiter = ' ';\n",
    "startRow = 1;\n",
    "endRow = inf;\n",
    "formatSpec = '%f%f%f%[^\\n\\r]';\n",
    "fileID = fopen(filename,'r');\n",
    "dataArray = textscan(fileID, formatSpec, endRow(1)-startRow(1)+1, 'Delimiter', delimiter, 'MultipleDelimsAsOne', true, 'TextType', 'string', 'EmptyValue', NaN, 'HeaderLines', startRow(1)-1, 'ReturnOnError', false, 'EndOfLine', '\\r\\n');\n",
    "fclose(fileID);\n",
    "filedata = [dataArray{1:end-1}];"
   ]
  },
  {
   "cell_type": "code",
   "execution_count": null,
   "metadata": {},
   "outputs": [],
   "source": [
    "%Codigo para leitura das labels\n",
    "function labels = importfileLabel(filename, startRow, endRow)\n",
    "delimiter = ' ';\n",
    "formatSpec = '%f%f%f%f%f%[^\\n\\r]';\n",
    "\n",
    "fileID = fopen(filename,'r');\n",
    "\n",
    "dataArray = textscan(fileID, formatSpec, endRow(1)-startRow(1)+1, 'Delimiter', delimiter, 'MultipleDelimsAsOne', true, 'TextType', 'string', 'HeaderLines', startRow(1)-1, 'ReturnOnError', false, 'EndOfLine', '\\r\\n');\n",
    "\n",
    "fclose(fileID);\n",
    "\n",
    "labels = [dataArray{1:end-1}];\n"
   ]
  },
  {
   "cell_type": "code",
   "execution_count": null,
   "metadata": {},
   "outputs": [],
   "source": [
    "%Codigo para leitura das atividades\n",
    "function activitylabels = importfileActLabel(filename)\n",
    "\n",
    "delimiter = ' ';\n",
    "startRow = 1;\n",
    "endRow = inf;\n",
    "\n",
    "\n",
    "formatSpec = '%s%s%[^\\n\\r]';\n",
    "\n",
    "\n",
    "fileID = fopen(filename,'r');\n",
    "dataArray = textscan(fileID, formatSpec, endRow(1)-startRow(1)+1, 'Delimiter', delimiter, 'MultipleDelimsAsOne', true, 'TextType', 'string', 'HeaderLines', startRow(1)-1, 'ReturnOnError', false, 'EndOfLine', '\\r\\n');\n",
    "fclose(fileID);\n",
    "\n",
    "\n",
    "activitylabels = [dataArray{1:end-1}];\n",
    "\n"
   ]
  },
  {
   "cell_type": "code",
   "execution_count": null,
   "metadata": {},
   "outputs": [],
   "source": [
    "%Codigo que vai fazer a leitura de todos os ficheiros\n",
    "dataPath = '.\\DataSets PL3\\';\n",
    "Datasets=cell(1,10); % celula de 3 dimensoes com os valores dos datasets\n",
    "j=1;\n",
    "for i=11:20\n",
    "    if i>=19 && i<=20\n",
    "        Datasets{1,j}=read_raw_data([dataPath,'acc_exp',num2str(i),'_user',num2str(floor((i+1)/2)),'.txt']);\n",
    "        j=j+1;\n",
    "    else\n",
    "        Datasets{1,j}=read_raw_data([dataPath,'acc_exp',num2str(i),'_user0',num2str(floor((i+1)/2)),'.txt']);\n",
    "        j=j+1;\n",
    "    end\n",
    "end\n",
    "\n",
    "labels=importfileLabel([dataPath,'labels.txt'],208,404);%vai ficar com os valores da label\n",
    "acoes=importfileActLabel([dataPath,'activity_labels.txt']);\n",
    "\n",
    "atividades=cell(3,12);%coluna representa os eixos, X Y e Z, e linhas as atividades (que são 12)"
   ]
  },
  {
   "cell_type": "markdown",
   "metadata": {},
   "source": [
    "## Exercicio 3\n",
    "Neste exercicio foi pedido para representar e identificar as várias atividades em cada ficheiro.\n",
    "A mudança de cor identifica uma mudança de atividade, enquanto a cor preta indica que não estão identificadas como nenhuma das 12 atividades.\n"
   ]
  },
  {
   "cell_type": "code",
   "execution_count": null,
   "metadata": {},
   "outputs": [],
   "source": [
    "counter=1;\n",
    "for i=1:10\n",
    "    x=Datasets{1,i}(:,1);%vai manter os valores de x do Dataset i \n",
    "    y=Datasets{1,i}(:,2);%vai manter os valores de y do Dataset i \n",
    "    z=Datasets{1,i}(:,3);%vai manter os valores de z do Dataset i\n",
    "    eixoX=1:length(x);\n",
    "    figure(i);\n",
    "    subplot(311);\n",
    "    plot(eixoX,x,'-k');\n",
    "    xlabel('Time (min)');\n",
    "    ylabel('ACC_X');\n",
    "    subplot(312);\n",
    "    plot(eixoX,y,'-k');\n",
    "    xlabel('Time (min)');\n",
    "    ylabel('ACC_Y');\n",
    "    subplot(313);\n",
    "    plot(eixoX,z,'-k');\n",
    "    xlabel('Time (min)');\n",
    "    ylabel('ACC_Z');\n",
    "    linhaLabel=labels(counter,:);\n",
    "    expAtual=linhaLabel(1);\n",
    "    while expAtual==linhaLabel(1) && counter<197\n",
    "         inicio=linhaLabel(4);\n",
    "         fim=linhaLabel(5);\n",
    "         atividade=linhaLabel(3);\n",
    "         subplot(311);\n",
    "         hold on;\n",
    "         plot(inicio:fim,x(inicio:fim));\n",
    "         texto=text(inicio,x(inicio),acoes(atividade,2),'VerticalAlignment','top','HorizontalAlignment','left');\n",
    "         texto(1).FontSize = 5;\n",
    "         subplot(312);\n",
    "         hold on;\n",
    "         plot(inicio:fim,y(inicio:fim));\n",
    "         texto=text(inicio,x(inicio),acoes(atividade,2),'VerticalAlignment','top','HorizontalAlignment','left');\n",
    "         texto(1).FontSize = 5;\n",
    "         subplot(313);\n",
    "         hold on;\n",
    "         plot(inicio:fim,z(inicio:fim));\n",
    "         texto=text(inicio,x(inicio),acoes(atividade,2),'VerticalAlignment','top','HorizontalAlignment','left');\n",
    "         texto(1).FontSize = 5;\n",
    "         counter=counter+1;\n",
    "       \n",
    "         atividades{1,atividade}{end+1}=x(inicio:fim);\n",
    "         atividades{2,atividade}{end+1}=y(inicio:fim);\n",
    "         atividades{3,atividade}{end+1}=z(inicio:fim);\n",
    "         \n",
    "         if(counter<197)\n",
    "            linhaLabel=labels(counter,:);\n",
    "         end\n",
    "    end\n",
    "end"
   ]
  },
  {
   "cell_type": "code",
   "execution_count": null,
   "metadata": {},
   "outputs": [],
   "source": []
  }
 ],
 "metadata": {
  "kernelspec": {
   "display_name": "Matlab",
   "language": "matlab",
   "name": "matlab"
  },
  "language_info": {
   "codemirror_mode": "octave",
   "file_extension": ".m",
   "help_links": [
    {
     "text": "MetaKernel Magics",
     "url": "https://metakernel.readthedocs.io/en/latest/source/README.html"
    }
   ],
   "mimetype": "text/x-octave",
   "name": "matlab",
   "version": "0.16.9"
  }
 },
 "nbformat": 4,
 "nbformat_minor": 4
}
